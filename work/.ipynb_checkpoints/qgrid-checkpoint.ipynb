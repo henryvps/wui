{
 "cells": [
  {
   "cell_type": "markdown",
   "metadata": {},
   "source": [
    "# qgrid example with slider widget as a filter"
   ]
  },
  {
   "cell_type": "code",
   "execution_count": 1,
   "metadata": {},
   "outputs": [
    {
     "data": {
      "application/vnd.jupyter.widget-view+json": {
       "model_id": "61fb0878a91d469389b2b1de0b9ef4ef",
       "version_major": 2,
       "version_minor": 0
      },
      "text/plain": [
       "VBox(children=(IntRangeSlider(value=(0, 999), description='Test:', max=999), QgridWidget(grid_options={'fullWi…"
      ]
     },
     "metadata": {},
     "output_type": "display_data"
    }
   ],
   "source": [
    "import numpy as np\n",
    "import pandas as pd\n",
    "import qgrid\n",
    "import ipywidgets as widgets\n",
    "df_scale = pd.DataFrame(np.random.randn(1000, 4), columns=list('ABCD'))\n",
    "q_scale = qgrid.show_grid(df_scale, show_toolbar=False)\n",
    "\n",
    "int_range = widgets.IntRangeSlider(\n",
    "    value=[0, 999],\n",
    "    min=0,\n",
    "    max=999,\n",
    "    step=1,\n",
    "    description='Test:',\n",
    "    disabled=False,\n",
    "    continuous_update=True,\n",
    "    orientation='horizontal',\n",
    "    readout=True,\n",
    "    readout_format='d',\n",
    ")\n",
    "\n",
    "def on_value_change(change):\n",
    "    q_scale._handle_qgrid_msg_helper({\n",
    "        'field': \"index\",\n",
    "        'filter_info': {\n",
    "            'field': \"index\",\n",
    "            'max': change['new'][1],\n",
    "            'min': change['new'][0],\n",
    "            'type': \"slider\"\n",
    "        },\n",
    "        'type': \"filter_changed\"\n",
    "    })\n",
    "\n",
    "int_range.observe(on_value_change, names='value')\n",
    "\n",
    "widgets.VBox([int_range, q_scale])"
   ]
  },
  {
   "cell_type": "code",
   "execution_count": null,
   "metadata": {},
   "outputs": [],
   "source": []
  }
 ],
 "metadata": {
  "kernelspec": {
   "display_name": "Python 3",
   "language": "python",
   "name": "python3"
  },
  "language_info": {
   "codemirror_mode": {
    "name": "ipython",
    "version": 3
   },
   "file_extension": ".py",
   "mimetype": "text/x-python",
   "name": "python",
   "nbconvert_exporter": "python",
   "pygments_lexer": "ipython3",
   "version": "3.6.5"
  }
 },
 "nbformat": 4,
 "nbformat_minor": 2
}
