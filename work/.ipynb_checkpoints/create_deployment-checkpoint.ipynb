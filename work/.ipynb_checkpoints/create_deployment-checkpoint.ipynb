{
 "cells": [
  {
   "cell_type": "markdown",
   "metadata": {
    "deletable": true,
    "editable": true
   },
   "source": [
    "How to create a Deployment\n",
    "==========================\n",
    "\n",
    "In this notebook, we show you how to create a Deployment with 3 ReplicaSets. These ReplicaSets are owned by the Deployment and are managed by the Deployment controller. We would also learn how to carry out RollingUpdate and RollBack to new and older versions of the deployment."
   ]
  },
  {
   "cell_type": "code",
   "execution_count": 1,
   "metadata": {},
   "outputs": [
    {
     "name": "stdout",
     "output_type": "stream",
     "text": [
      "Requirement already satisfied: kubernetes in /usr/local/lib/python3.6/site-packages (6.0.0)\n",
      "Requirement already satisfied: requests-oauthlib in /usr/local/lib/python3.6/site-packages (from kubernetes) (0.8.0)\n",
      "Requirement already satisfied: pyyaml>=3.12 in /usr/local/lib/python3.6/site-packages (from kubernetes) (3.12)\n",
      "Requirement already satisfied: google-auth>=1.0.1 in /usr/local/lib/python3.6/site-packages (from kubernetes) (1.4.1)\n",
      "Requirement already satisfied: urllib3!=1.21,>=1.19.1 in /usr/local/lib/python3.6/site-packages (from kubernetes) (1.22)\n",
      "Requirement already satisfied: six>=1.9.0 in /usr/local/lib/python3.6/site-packages (from kubernetes) (1.11.0)\n",
      "Requirement already satisfied: ipaddress>=1.0.17 in /usr/local/lib/python3.6/site-packages (from kubernetes) (1.0.22)\n",
      "Requirement already satisfied: websocket-client!=0.40.0,!=0.41.*,!=0.42.*,>=0.32.0 in /usr/local/lib/python3.6/site-packages (from kubernetes) (0.47.0)\n",
      "Requirement already satisfied: requests in /usr/local/lib/python3.6/site-packages (from kubernetes) (2.18.4)\n",
      "Requirement already satisfied: python-dateutil>=2.5.3 in /usr/local/lib/python3.6/site-packages (from kubernetes) (2.7.3)\n",
      "Requirement already satisfied: certifi>=14.05.14 in /usr/local/lib/python3.6/site-packages (from kubernetes) (2018.4.16)\n",
      "Requirement already satisfied: setuptools>=21.0.0 in /usr/local/lib/python3.6/site-packages (from kubernetes) (39.0.1)\n",
      "Requirement already satisfied: oauthlib>=0.6.2 in /usr/local/lib/python3.6/site-packages (from requests-oauthlib->kubernetes) (2.0.7)\n",
      "Requirement already satisfied: pyasn1-modules>=0.2.1 in /usr/local/lib/python3.6/site-packages (from google-auth>=1.0.1->kubernetes) (0.2.1)\n",
      "Requirement already satisfied: rsa>=3.1.4 in /usr/local/lib/python3.6/site-packages (from google-auth>=1.0.1->kubernetes) (3.4.2)\n",
      "Requirement already satisfied: cachetools>=2.0.0 in /usr/local/lib/python3.6/site-packages (from google-auth>=1.0.1->kubernetes) (2.1.0)\n",
      "Requirement already satisfied: chardet<3.1.0,>=3.0.2 in /usr/local/lib/python3.6/site-packages (from requests->kubernetes) (3.0.4)\n",
      "Requirement already satisfied: idna<2.7,>=2.5 in /usr/local/lib/python3.6/site-packages (from requests->kubernetes) (2.6)\n",
      "Requirement already satisfied: pyasn1<0.5.0,>=0.4.1 in /usr/local/lib/python3.6/site-packages (from pyasn1-modules>=0.2.1->google-auth>=1.0.1->kubernetes) (0.4.2)\n"
     ]
    }
   ],
   "source": [
    "!pip install kubernetes"
   ]
  },
  {
   "cell_type": "code",
   "execution_count": 2,
   "metadata": {},
   "outputs": [],
   "source": [
    "import os"
   ]
  },
  {
   "cell_type": "code",
   "execution_count": 3,
   "metadata": {},
   "outputs": [],
   "source": [
    "os.environ['GOOGLE_APPLICATION_CREDENTIALS'] = '/opt/app/config/authcreds.json'"
   ]
  },
  {
   "cell_type": "code",
   "execution_count": 4,
   "metadata": {
    "collapsed": true,
    "deletable": true,
    "editable": true
   },
   "outputs": [],
   "source": [
    "from kubernetes import client, config"
   ]
  },
  {
   "cell_type": "markdown",
   "metadata": {
    "deletable": true,
    "editable": true
   },
   "source": [
    "### Load config from default location"
   ]
  },
  {
   "cell_type": "code",
   "execution_count": 5,
   "metadata": {
    "collapsed": true,
    "deletable": true,
    "editable": true
   },
   "outputs": [],
   "source": [
    "#config.load_kube_config()\n",
    "config.load_kube_config(config_file='/opt/app/config/kube.config')\n",
    "extension = client.ExtensionsV1beta1Api()"
   ]
  },
  {
   "cell_type": "markdown",
   "metadata": {
    "deletable": true,
    "editable": true
   },
   "source": [
    "### Create Deployment object"
   ]
  },
  {
   "cell_type": "code",
   "execution_count": 6,
   "metadata": {
    "collapsed": true,
    "deletable": true,
    "editable": true
   },
   "outputs": [],
   "source": [
    "deployment = client.ExtensionsV1beta1Deployment()"
   ]
  },
  {
   "cell_type": "markdown",
   "metadata": {
    "deletable": true,
    "editable": true
   },
   "source": [
    "### Fill required Deployment fields (apiVersion, kind, and metadata)"
   ]
  },
  {
   "cell_type": "code",
   "execution_count": 7,
   "metadata": {
    "collapsed": true,
    "deletable": true,
    "editable": true
   },
   "outputs": [],
   "source": [
    "deployment.api_version = \"extensions/v1beta1\"\n",
    "deployment.kind = \"Deployment\"\n",
    "deployment.metadata = client.V1ObjectMeta(name=\"nginx-deployment\")"
   ]
  },
  {
   "cell_type": "markdown",
   "metadata": {
    "deletable": true,
    "editable": true
   },
   "source": [
    "### Add Pod template in .spec.template section"
   ]
  },
  {
   "cell_type": "code",
   "execution_count": 8,
   "metadata": {
    "collapsed": true,
    "deletable": true,
    "editable": true
   },
   "outputs": [],
   "source": [
    "#template = client.V1PodTemplateSpec()\n",
    "#template.metadata = client.V1ObjectMeta(labels={\"app\": \"nginx\"})\n",
    "# Configureate Pod template container\n",
    "container = client.V1Container(\n",
    "        name=\"nginx\",\n",
    "        image=\"nginx:1.7.9\",\n",
    "        ports=[client.V1ContainerPort(container_port=80)])\n",
    "# Create and configurate a spec section\n",
    "template = client.V1PodTemplateSpec(\n",
    "        metadata=client.V1ObjectMeta(labels={\"app\": \"nginx\"}),\n",
    "        spec=client.V1PodSpec(containers=[container]))\n",
    "# Create the specification of deployment\n",
    "spec = client.ExtensionsV1beta1DeploymentSpec(\n",
    "        replicas=3,\n",
    "        template=template)"
   ]
  },
  {
   "cell_type": "markdown",
   "metadata": {
    "deletable": true,
    "editable": true
   },
   "source": [
    "### A Deployment also needs a .spec section"
   ]
  },
  {
   "cell_type": "code",
   "execution_count": 9,
   "metadata": {
    "collapsed": true,
    "deletable": true,
    "editable": true
   },
   "outputs": [],
   "source": [
    "#spec = client.ExtensionsV1beta1DeploymentSpec(\n",
    "#        replicas=3,\n",
    "#        template=template)"
   ]
  },
  {
   "cell_type": "markdown",
   "metadata": {
    "deletable": true,
    "editable": true
   },
   "source": [
    "### Pod template container description"
   ]
  },
  {
   "cell_type": "code",
   "execution_count": 10,
   "metadata": {
    "collapsed": true,
    "deletable": true,
    "editable": true
   },
   "outputs": [],
   "source": [
    "#container = client.V1Container(\n",
    "#        name=\"nginx\",\n",
    "#        image=\"nginx:1.7.9\",\n",
    "#        ports=[client.V1ContainerPort(container_port=80)])"
   ]
  },
  {
   "cell_type": "code",
   "execution_count": 11,
   "metadata": {
    "collapsed": false,
    "deletable": true,
    "editable": true
   },
   "outputs": [],
   "source": [
    "spec.template.spec.containers = [container]\n",
    "deployment.spec = spec"
   ]
  },
  {
   "cell_type": "code",
   "execution_count": null,
   "metadata": {},
   "outputs": [],
   "source": []
  },
  {
   "cell_type": "markdown",
   "metadata": {
    "deletable": true,
    "editable": true
   },
   "source": [
    "### Create Deployment"
   ]
  },
  {
   "cell_type": "code",
   "execution_count": 12,
   "metadata": {
    "collapsed": false,
    "deletable": true,
    "editable": true
   },
   "outputs": [
    {
     "data": {
      "text/plain": [
       "{'api_version': 'extensions/v1beta1',\n",
       " 'kind': 'Deployment',\n",
       " 'metadata': {'annotations': None,\n",
       "              'cluster_name': None,\n",
       "              'creation_timestamp': datetime.datetime(2018, 5, 22, 15, 9, 58, tzinfo=tzlocal()),\n",
       "              'deletion_grace_period_seconds': None,\n",
       "              'deletion_timestamp': None,\n",
       "              'finalizers': None,\n",
       "              'generate_name': None,\n",
       "              'generation': 1,\n",
       "              'initializers': None,\n",
       "              'labels': {'app': 'nginx'},\n",
       "              'name': 'nginx-deployment',\n",
       "              'namespace': 'default',\n",
       "              'owner_references': None,\n",
       "              'resource_version': '847042',\n",
       "              'self_link': '/apis/extensions/v1beta1/namespaces/default/deployments/nginx-deployment',\n",
       "              'uid': '31427c0c-5dd2-11e8-9a5c-42010a8000ab'},\n",
       " 'spec': {'min_ready_seconds': None,\n",
       "          'paused': None,\n",
       "          'progress_deadline_seconds': None,\n",
       "          'replicas': 3,\n",
       "          'revision_history_limit': None,\n",
       "          'rollback_to': None,\n",
       "          'selector': {'match_expressions': None,\n",
       "                       'match_labels': {'app': 'nginx'}},\n",
       "          'strategy': {'rolling_update': {'max_surge': 1, 'max_unavailable': 1},\n",
       "                       'type': 'RollingUpdate'},\n",
       "          'template': {'metadata': {'annotations': None,\n",
       "                                    'cluster_name': None,\n",
       "                                    'creation_timestamp': None,\n",
       "                                    'deletion_grace_period_seconds': None,\n",
       "                                    'deletion_timestamp': None,\n",
       "                                    'finalizers': None,\n",
       "                                    'generate_name': None,\n",
       "                                    'generation': None,\n",
       "                                    'initializers': None,\n",
       "                                    'labels': {'app': 'nginx'},\n",
       "                                    'name': None,\n",
       "                                    'namespace': None,\n",
       "                                    'owner_references': None,\n",
       "                                    'resource_version': None,\n",
       "                                    'self_link': None,\n",
       "                                    'uid': None},\n",
       "                       'spec': {'active_deadline_seconds': None,\n",
       "                                'affinity': None,\n",
       "                                'automount_service_account_token': None,\n",
       "                                'containers': [{'args': None,\n",
       "                                                'command': None,\n",
       "                                                'env': None,\n",
       "                                                'env_from': None,\n",
       "                                                'image': 'nginx:1.7.9',\n",
       "                                                'image_pull_policy': 'IfNotPresent',\n",
       "                                                'lifecycle': None,\n",
       "                                                'liveness_probe': None,\n",
       "                                                'name': 'nginx',\n",
       "                                                'ports': [{'container_port': 80,\n",
       "                                                           'host_ip': None,\n",
       "                                                           'host_port': None,\n",
       "                                                           'name': None,\n",
       "                                                           'protocol': 'TCP'}],\n",
       "                                                'readiness_probe': None,\n",
       "                                                'resources': {'limits': None,\n",
       "                                                              'requests': None},\n",
       "                                                'security_context': None,\n",
       "                                                'stdin': None,\n",
       "                                                'stdin_once': None,\n",
       "                                                'termination_message_path': '/dev/termination-log',\n",
       "                                                'termination_message_policy': 'File',\n",
       "                                                'tty': None,\n",
       "                                                'volume_devices': None,\n",
       "                                                'volume_mounts': None,\n",
       "                                                'working_dir': None}],\n",
       "                                'dns_config': None,\n",
       "                                'dns_policy': 'ClusterFirst',\n",
       "                                'host_aliases': None,\n",
       "                                'host_ipc': None,\n",
       "                                'host_network': None,\n",
       "                                'host_pid': None,\n",
       "                                'hostname': None,\n",
       "                                'image_pull_secrets': None,\n",
       "                                'init_containers': None,\n",
       "                                'node_name': None,\n",
       "                                'node_selector': None,\n",
       "                                'priority': None,\n",
       "                                'priority_class_name': None,\n",
       "                                'restart_policy': 'Always',\n",
       "                                'scheduler_name': 'default-scheduler',\n",
       "                                'security_context': {'fs_group': None,\n",
       "                                                     'run_as_group': None,\n",
       "                                                     'run_as_non_root': None,\n",
       "                                                     'run_as_user': None,\n",
       "                                                     'se_linux_options': None,\n",
       "                                                     'supplemental_groups': None},\n",
       "                                'service_account': None,\n",
       "                                'service_account_name': None,\n",
       "                                'share_process_namespace': None,\n",
       "                                'subdomain': None,\n",
       "                                'termination_grace_period_seconds': 30,\n",
       "                                'tolerations': None,\n",
       "                                'volumes': None}}},\n",
       " 'status': {'available_replicas': None,\n",
       "            'collision_count': None,\n",
       "            'conditions': None,\n",
       "            'observed_generation': None,\n",
       "            'ready_replicas': None,\n",
       "            'replicas': None,\n",
       "            'unavailable_replicas': None,\n",
       "            'updated_replicas': None}}"
      ]
     },
     "execution_count": 12,
     "metadata": {},
     "output_type": "execute_result"
    }
   ],
   "source": [
    "extension.create_namespaced_deployment(namespace=\"default\", body=deployment)"
   ]
  },
  {
   "cell_type": "code",
   "execution_count": 20,
   "metadata": {},
   "outputs": [
    {
     "name": "stdout",
     "output_type": "stream",
     "text": [
      "10.8.0.6\tdefault\tnginx-1-97dd4c589-phv5q\n",
      "10.8.0.8\tdefault\tnginx-deployment-6bd4859cdb-2hqh7\n",
      "10.8.2.10\tdefault\tnginx-deployment-6bd4859cdb-4qwgm\n",
      "10.8.2.9\tdefault\tnginx-deployment-6bd4859cdb-przk7\n",
      "10.8.1.4\tkube-system\tevent-exporter-v0.1.7-5c4d9556cf-hb4cx\n",
      "10.8.2.2\tkube-system\tfluentd-gcp-v2.0.9-6h9bm\n",
      "10.8.0.2\tkube-system\tfluentd-gcp-v2.0.9-bpvd6\n",
      "10.8.1.2\tkube-system\tfluentd-gcp-v2.0.9-lk8gw\n",
      "10.8.1.6\tkube-system\theapster-v1.4.3-86c6587454-mhq92\n",
      "10.8.2.3\tkube-system\tkube-dns-778977457c-jngvq\n",
      "10.8.0.5\tkube-system\tkube-dns-778977457c-kftwp\n",
      "10.8.0.4\tkube-system\tkube-dns-autoscaler-7db47cb9b7-fmjkv\n",
      "10.240.0.47\tkube-system\tkube-proxy-gke-cluster-1-default-pool-45398d44-6ftc\n",
      "10.240.0.48\tkube-system\tkube-proxy-gke-cluster-1-default-pool-45398d44-8nph\n",
      "10.240.0.46\tkube-system\tkube-proxy-gke-cluster-1-default-pool-45398d44-pj3k\n",
      "10.8.1.5\tkube-system\tkubernetes-dashboard-768854d6dc-rwzzv\n",
      "10.8.1.3\tkube-system\tl7-default-backend-6497bcdb4d-249t2\n"
     ]
    }
   ],
   "source": [
    "v1 = client.CoreV1Api()\n",
    "ret = v1.list_pod_for_all_namespaces(watch=False)\n",
    "for i in ret.items:\n",
    "    print(\"%s\\t%s\\t%s\" %\n",
    "          (i.status.pod_ip, i.metadata.namespace, i.metadata.name))"
   ]
  },
  {
   "cell_type": "code",
   "execution_count": null,
   "metadata": {},
   "outputs": [],
   "source": []
  }
 ],
 "metadata": {
  "kernelspec": {
   "display_name": "Python 3",
   "language": "python",
   "name": "python3"
  },
  "language_info": {
   "codemirror_mode": {
    "name": "ipython",
    "version": 3
   },
   "file_extension": ".py",
   "mimetype": "text/x-python",
   "name": "python",
   "nbconvert_exporter": "python",
   "pygments_lexer": "ipython3",
   "version": "3.6.5"
  }
 },
 "nbformat": 4,
 "nbformat_minor": 2
}
