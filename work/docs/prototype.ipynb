{
 "cells": [
  {
   "cell_type": "markdown",
   "metadata": {},
   "source": [
    "**cool stuff we could use**\n",
    "- http://christopherroach.com/articles/jupyterlab-desktop-app/\n",
    "- https://github.com/crowdy/crowdy.github.io\n",
    "\n",
    "**people to talk to**\n",
    "- https://github.com/crowdy"
   ]
  },
  {
   "cell_type": "markdown",
   "metadata": {},
   "source": [
    "# prototype scope"
   ]
  },
  {
   "cell_type": "markdown",
   "metadata": {},
   "source": [
    "### JL UI demo plugins to extend every aspect of JL"
   ]
  },
  {
   "cell_type": "markdown",
   "metadata": {},
   "source": [
    "**TODO**\n",
    " - Notebook toolbar button. DONE\n",
    " - new commands vertical tab showcasing quick access to all Warren operations\n",
    " - new vertival tab to render current pilw.io functionality to main panel\n",
    " - new vertical tab creating dummy UI or S3 bucket browser\n",
    " - right sidebar panel with dummy UI similar to Cell Tools\n"
   ]
  },
  {
   "cell_type": "markdown",
   "metadata": {},
   "source": [
    "### JL UI plugins to replicate the current Pilw.io \"UI\" based on the current API"
   ]
  },
  {
   "cell_type": "markdown",
   "metadata": {},
   "source": [
    "- use test.pilw.io API to query some data eg. VM list\n",
    "- create a PoC plugin to display a list of virtual machines\n",
    "    - assess how complex it would be to potentially do the same semi-automatically\n",
    "      - with a notebook template\n",
    "      - cookiecutter functions called from notebook\n",
    "      - intelligent component to map the data with appropriate UI widget available\n"
   ]
  },
  {
   "cell_type": "markdown",
   "metadata": {},
   "source": [
    "** prototype estimate: 20 hours**"
   ]
  },
  {
   "cell_type": "markdown",
   "metadata": {},
   "source": [
    "#### notes"
   ]
  },
  {
   "cell_type": "markdown",
   "metadata": {},
   "source": [
    "https://github.com/jupyterlab/extension-cookiecutter-ts \n",
    "https://cookiecutter.readthedocs.io/en/latest/advanced/template_extensions.html\n",
    "https://github.com/timkpaine/jupyterlab_templates"
   ]
  },
  {
   "cell_type": "markdown",
   "metadata": {},
   "source": [
    "### Some Kubernetes features integrated into JL native UI"
   ]
  },
  {
   "cell_type": "markdown",
   "metadata": {},
   "source": [
    "### Monaco editor"
   ]
  },
  {
   "cell_type": "markdown",
   "metadata": {},
   "source": [
    "https://medium.com/@fingr8/bring-vs-code-to-your-jupyterlab-187e59dd1c1b"
   ]
  },
  {
   "cell_type": "markdown",
   "metadata": {},
   "source": [
    "### Realtime features and Chat"
   ]
  },
  {
   "cell_type": "markdown",
   "metadata": {},
   "source": [
    "- to showcase a basic support scenario"
   ]
  },
  {
   "cell_type": "markdown",
   "metadata": {},
   "source": [
    "### Warren FaaS"
   ]
  },
  {
   "cell_type": "markdown",
   "metadata": {},
   "source": [
    "#### core principles"
   ]
  },
  {
   "cell_type": "markdown",
   "metadata": {},
   "source": [
    "- Functionsn are executed in Docker containers that \n",
    "  - may or may not act as a microservices (comms)\n",
    "  - may or may not return something\n",
    "  - \n",
    "- functions are written into Ju"
   ]
  },
  {
   "cell_type": "markdown",
   "metadata": {},
   "source": [
    "#### initial scope"
   ]
  },
  {
   "cell_type": "markdown",
   "metadata": {},
   "source": [
    "- **DONE** create a notebook that acts as a microservice providing API endpoints of cells prefixed by a HTTP method decorator\n",
    "- create a component that enables to schedule the functions accross clouds\n",
    "  - **DONE** Docker Machines (most urgent since can be released anyware) eg. metal (RaspberryPI), vm's @ pilw.io etc.\n",
    "  - Kubernetes clusters\n",
    "  - Mesos clusters\n",
    "  - _or anything that can run Docker containers._\n",
    "- create a notebook template to make it intuitive to create and deploy\n",
    "  - think about the features of deploy scenari\n",
    "- some fancy ML examples Jupyter can easily provide. \n",
    "  - This is to showcase the potential for Marketplace of community driven alternative for AWS, Azure, GCP etc. APIs offering any BigData, ML, AI turnkey solutions like OCR, Natural Language Processing, Deep Learning etc. "
   ]
  },
  {
   "cell_type": "markdown",
   "metadata": {},
   "source": [
    "** prototype estimate: 30 hours**"
   ]
  },
  {
   "cell_type": "markdown",
   "metadata": {},
   "source": [
    "#### notes"
   ]
  },
  {
   "cell_type": "markdown",
   "metadata": {},
   "source": [
    "- http://blog.ibmjstart.net/2016/01/28/jupyter-notebooks-as-restful-microservices/\n",
    "- https://github.com/jupyter/kernel_gateway\n",
    "- https://github.com/jupyter/kernel_gateway/blob/master/etc/api_examples/api_intro.ipynb\n",
    "- https://github.com/jupyter/kernel_gateway_demos\n",
    "- https://github.com/timkpaine/jupyterlab_templates\n"
   ]
  },
  {
   "cell_type": "code",
   "execution_count": null,
   "metadata": {},
   "outputs": [],
   "source": []
  }
 ],
 "metadata": {
  "kernelspec": {
   "display_name": "Python 3",
   "language": "python",
   "name": "python3"
  },
  "language_info": {
   "codemirror_mode": {
    "name": "ipython",
    "version": 3
   },
   "file_extension": ".py",
   "mimetype": "text/x-python",
   "name": "python",
   "nbconvert_exporter": "python",
   "pygments_lexer": "ipython3",
   "version": "3.6.5"
  }
 },
 "nbformat": 4,
 "nbformat_minor": 2
}
