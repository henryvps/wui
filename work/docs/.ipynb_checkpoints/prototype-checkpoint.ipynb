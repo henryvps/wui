{
 "cells": [
  {
   "cell_type": "markdown",
   "metadata": {},
   "source": [
    "**cool stuff we could use**\n",
    "- http://christopherroach.com/articles/jupyterlab-desktop-app/\n",
    "- https://github.com/crowdy/crowdy.github.io\n",
    "\n",
    "**people to talk to**\n",
    "- https://github.com/crowdy"
   ]
  },
  {
   "cell_type": "markdown",
   "metadata": {},
   "source": [
    "# prototype scope"
   ]
  },
  {
   "cell_type": "markdown",
   "metadata": {},
   "source": [
    "### JL UI demo plugins to extend every aspect of JL"
   ]
  },
  {
   "cell_type": "markdown",
   "metadata": {},
   "source": [
    "**TODO**\n",
    " - Notebook toolbar button to execute function _somewhere else_. \n",
    " - new commands vertical tab showcasing quick access to all Warren operations\n",
    " - new vertival tab to render current pilw.io functionality to main panel\n",
    " - new vertical tab creating dummy UI or S3 bucket browser\n",
    " - right sidebar panel with dummy UI similar to Cell Tools\n"
   ]
  },
  {
   "cell_type": "markdown",
   "metadata": {},
   "source": [
    "### JL UI plugins to replicate the current Pilw.io \"UI\" based on the current API"
   ]
  },
  {
   "cell_type": "markdown",
   "metadata": {},
   "source": [
    "- use test.pilw.io API to query some data eg. VM list\n",
    "- create a PoC plugin to display a list of virtual machines\n",
    "    - assess how complex it would be to potentially do the same semi-automatically\n",
    "      - with a notebook template\n",
    "      - cookiecutter functions called from notebook\n",
    "      - intelligent component to map the data with appropriate UI widget available\n"
   ]
  },
  {
   "cell_type": "markdown",
   "metadata": {},
   "source": [
    "** prototype estimate: 20 hours**"
   ]
  },
  {
   "cell_type": "markdown",
   "metadata": {},
   "source": [
    "#### notes"
   ]
  },
  {
   "cell_type": "markdown",
   "metadata": {},
   "source": [
    "https://github.com/jupyterlab/extension-cookiecutter-ts \n",
    "https://cookiecutter.readthedocs.io/en/latest/advanced/template_extensions.html\n",
    "https://github.com/timkpaine/jupyterlab_templates"
   ]
  },
  {
   "cell_type": "markdown",
   "metadata": {},
   "source": [
    "### Some Kubernetes features integrated into JL native UI"
   ]
  },
  {
   "cell_type": "markdown",
   "metadata": {},
   "source": [
    "### Monaco editor"
   ]
  },
  {
   "cell_type": "markdown",
   "metadata": {},
   "source": [
    "https://medium.com/@fingr8/bring-vs-code-to-your-jupyterlab-187e59dd1c1b"
   ]
  },
  {
   "cell_type": "markdown",
   "metadata": {},
   "source": [
    "### Realtime features and Chat"
   ]
  },
  {
   "cell_type": "markdown",
   "metadata": {},
   "source": [
    "- to showcase a basic support scenario"
   ]
  },
  {
   "cell_type": "markdown",
   "metadata": {},
   "source": [
    "## Warren FaaS"
   ]
  },
  {
   "cell_type": "markdown",
   "metadata": {},
   "source": [
    "**fnLimited / fUnlimited / uFunc / fnFoo - \"a FaaS for you too\"**"
   ]
  },
  {
   "cell_type": "markdown",
   "metadata": {},
   "source": [
    "### Motivation: competition is missing the point"
   ]
  },
  {
   "cell_type": "markdown",
   "metadata": {},
   "source": [
    "- Functions are executed in a Docker container that \n",
    "  - may or may not act as a microservice (thinking communication (or not) with other services)\n",
    "  - may or may not return something anything\n",
    "  - no limits on run time. not more than users set themselves.\n",
    "  - as Kubernetes dude mentioned. everyone does JavaScript (or maybe Python).\n",
    "      - we have Kernels from Jupyter for reaaaaly busy people\n",
    "      - but production grade support for everything from Docker containers.\n",
    "  \n",
    "- functions are written into Ju\n",
    "\n"
   ]
  },
  {
   "cell_type": "markdown",
   "metadata": {},
   "source": [
    "### Marketplace: why FaaS is ideal to get this going?"
   ]
  },
  {
   "cell_type": "markdown",
   "metadata": {},
   "source": [
    "_to showcase the potential for Marketplace of community driven alternative for AWS, Azure, GCP etc. APIs offering any BigData, ML, AI turnkey solutions like OCR, Natural Language Processing, Deep Learning etc._\n",
    "\n",
    "- FaaS is ideal category to launch the Marketplace because:\n",
    "  - short cycle from dev to release. authors earn a share \"affiliate fee\" of what we make out of their           \"referrals\" of course. needs thought.\n",
    "  - my lately narrow mind believes it to be almost entirely unit testable. \n",
    "    - we should see if it is possible to release new APIs with CI naively relying on machine tests only. \n",
    "    - if we base the dev workflow on TDD then we could potentially have a working product with virtually \n",
    "    **NO APP REVIEWERS ARMY or MODERATORS BOARD**\n",
    "    - we will have to pay for the infra used for running the tests we already have. run once and forget until next modification and deployment does not and won't work here.\n",
    "    - quality, perscision etc are grey area in most cases (of course the product cannot be bad). for example how different algorithms colour a black and white photo will render entirelly different result eg. as long as the technical solution returns a reasonably good color photo then the API works. we still need some humans or maybe semi-humans to figure out how to make the photos more likable for instance.\n",
    "\n",
    "- But marketplace vendors want to publish articles (on most occasions) on how to use their APIs.\n",
    "  - this is how we get an endless supply of those interactive articles. entirely free or very cheap.\n",
    "  - FaaS is of course the only reasonable way so far to implement interactive articles.\n",
    "    - it can be so seamless that the reader hardly notices how Warren account is created after they are finished with the article. on the other hand transparent as to what is going on and definitely not aggressive.\n",
    "    \n",
    "- onboarding independent writers sounds just as realistic\n",
    "  - we pitch an easy way to make their technical blog posts _interactive_ / _more engaging_ / _more hands on and effective_\n",
    "  - we **DO NOT** charge them for the service.\n",
    "  - **instead** they'll earn their share out of everything their readers pay.. for a reasonable while..\n",
    "\n",
    "P.S. let's brainstorm with the whole team, why should we not try to release FaaS in the first place and the rest of the features when they are good and ready. just like Ubuntu, Apple etc who do the quarterlys..\n",
    "- helps to establish our sales and marketing vehicle.\n",
    "- we'll be on the map and have at least some sort of an experience what it is going to be like.\n",
    "- more traction === less stress with the next funding rounds.\n",
    "- by the time the rest of the features are ready the SEO and influencers network is theoretically just ripe enough to start snowballing."
   ]
  },
  {
   "cell_type": "markdown",
   "metadata": {},
   "source": [
    "#### initial scope"
   ]
  },
  {
   "cell_type": "markdown",
   "metadata": {},
   "source": [
    "- **DONE** create a notebook that acts as a microservice providing API endpoints of cells prefixed by a HTTP method decorator\n",
    "    - Jupyter notebook that exposes public API endpoint to receive the following data and execute functions accordingly.\n",
    "      - run_with['os_cmd', 'jupyter', ...]\n",
    "      - return_as['stdout', 'html'...]\n",
    "      - src['git_repo_urls', 'dockerfile']\n",
    "      - notebook - containing the following data\n",
    "        - notebook to execute with jupyter_kernelgateway\n",
    "        - Dockerfile to execute \n",
    "    - **DONE** create session project folder\n",
    "    - **DONE** init git repo in the folder\n",
    "    - **DONE** write the notebook in the session folder\n",
    "    - create folder \"public\" to expose the results (if any)\n",
    "    - create file STDOUT in it\n",
    "    - git commit the initial session folder\n",
    "  \n",
    "  \n",
    "  - create Jupyter user-facing jupyter notebook to create and run the functions in Docker Machine.\n",
    "    - API endpoint for Jupyter kernel gateway to execute a notebook cell\n",
    "    - Notebook toolbar button to build and execute the function\n",
    " \n",
    "\n",
    "\n",
    "- create a notebook template to make it intuitive to create and deploy\n",
    "  - **DONE** think about the features of deploy scenario\n",
    "- create a component that enables to schedule the functions accross clouds\n",
    "  - **DONE** Docker Machines on any venv or metal, vm's @ pilw.io etc.\n",
    "  - Kubernetes clusters\n",
    "  - Mesos clusters\n",
    "  - _or anything that can run Docker containers._\n",
    "- some fancy ML examples Jupyter can easily provide. \n",
    "  - NLP\n",
    "      - sentiment analysis\n",
    "      - entity extraction\n",
    "  - generating PDF and web invoices based on JIRA project months (Notebook, HTML, Jinja2, NBConvert)\n",
    "      - /invoce/create<json> /get_invoices and /invoice/invoice_number\n",
    "  - think of an easy usecases for mobile app developers"
   ]
  },
  {
   "cell_type": "markdown",
   "metadata": {},
   "source": [
    "** prototype estimate: 30 hours**"
   ]
  },
  {
   "cell_type": "markdown",
   "metadata": {},
   "source": [
    "#### notes"
   ]
  },
  {
   "cell_type": "markdown",
   "metadata": {},
   "source": [
    "- http://blog.ibmjstart.net/2016/01/28/jupyter-notebooks-as-restful-microservices/\n",
    "- https://github.com/jupyter/kernel_gateway\n",
    "- https://github.com/jupyter/kernel_gateway/blob/master/etc/api_examples/api_intro.ipynb\n",
    "- https://github.com/jupyter/kernel_gateway_demos\n",
    "- https://github.com/timkpaine/jupyterlab_templates\n"
   ]
  },
  {
   "cell_type": "code",
   "execution_count": null,
   "metadata": {},
   "outputs": [],
   "source": []
  }
 ],
 "metadata": {
  "kernelspec": {
   "display_name": "Python 3",
   "language": "python",
   "name": "python3"
  },
  "language_info": {
   "codemirror_mode": {
    "name": "ipython",
    "version": 3
   },
   "file_extension": ".py",
   "mimetype": "text/x-python",
   "name": "python",
   "nbconvert_exporter": "python",
   "pygments_lexer": "ipython3",
   "version": "3.6.5"
  }
 },
 "nbformat": 4,
 "nbformat_minor": 2
}
