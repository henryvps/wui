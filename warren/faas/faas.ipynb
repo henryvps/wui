{
 "cells": [
  {
   "cell_type": "code",
   "execution_count": 7,
   "metadata": {},
   "outputs": [
    {
     "data": {
      "text/plain": [
       "(3, 3, 0)"
      ]
     },
     "execution_count": 7,
     "metadata": {},
     "output_type": "execute_result"
    }
   ],
   "source": [
    "import json\n",
    "import docker\n",
    "import os\n",
    "import uuid\n",
    "docker.version_info"
   ]
  },
  {
   "cell_type": "code",
   "execution_count": 8,
   "metadata": {},
   "outputs": [],
   "source": [
    "tls_config = docker.tls.TLSConfig(\n",
    "    client_cert=('wrnaz/cert.pem', 'wrnaz/key.pem'),\n",
    "    verify='wrnaz/ca.pem'\n",
    ")\n",
    "client = docker.DockerClient(base_url='tcp://23.97.131.169:2376', tls=tls_config)\n",
    "REQUEST = json.dumps({\n",
    "        'body' : {}\n",
    "})"
   ]
  },
  {
   "cell_type": "code",
   "execution_count": 9,
   "metadata": {},
   "outputs": [],
   "source": [
    "sessions_path = '/home/jovyan/work/'\n",
    "notebook = ''\n",
    "\n",
    "def create_session(session_type):\n",
    "    if session_type == 'nb':\n",
    "        id = str(uuid.uuid4())\n",
    "        if not os.path.exists(sessions_path+id):\n",
    "            session_path = os.makedirs(sessions_path+id)\n",
    "            return id\n",
    "        else:\n",
    "            return Exception(FileExistsError)\n",
    "\n",
    "def store_notebook(path, fileName, data):\n",
    "    filePathNameWExt = path + '/' + fileName\n",
    "    print(filePathNameWExt)\n",
    "    with open(filePathNameWExt, 'w+') as fp:\n",
    "        fp.write(data)\n",
    "\n",
    "    fp.close()\n",
    "\n",
    "        \n",
    "def run_notebook(session_id):\n",
    "    container = client.containers.run('jupyter/scipy-notebook', 'jupyter notebook '+ sessions_path + session_id + '/nb.ipynb')\n",
    "    return container.id"
   ]
  },
  {
   "cell_type": "code",
   "execution_count": 10,
   "metadata": {},
   "outputs": [
    {
     "name": "stdout",
     "output_type": "stream",
     "text": [
      "/home/jovyan/work/52701c64-dbba-46fe-9302-832d099aedab/nb.ipynb\n",
      "RESPONSE: write() argument must be str, not dict\n"
     ]
    }
   ],
   "source": [
    "# POST /notebook\n",
    "try:\n",
    "    req = json.loads(REQUEST)\n",
    "    notebook = req['body']\n",
    "    session_id = create_session('nb')\n",
    "    store_notebook(sessions_path+session_id, 'nb.ipynb', notebook)\n",
    "    response = run_notebook(session_id)\n",
    "except Exception as e:\n",
    "    response = e\n",
    "finally:\n",
    "    print('RESPONSE: ' + str(response))\n"
   ]
  },
  {
   "cell_type": "code",
   "execution_count": null,
   "metadata": {},
   "outputs": [],
   "source": []
  }
 ],
 "metadata": {
  "kernelspec": {
   "display_name": "Python 3",
   "language": "python",
   "name": "python3"
  },
  "language_info": {
   "codemirror_mode": {
    "name": "ipython",
    "version": 3
   },
   "file_extension": ".py",
   "mimetype": "text/x-python",
   "name": "python",
   "nbconvert_exporter": "python",
   "pygments_lexer": "ipython3",
   "version": "3.6.5"
  }
 },
 "nbformat": 4,
 "nbformat_minor": 2
}
