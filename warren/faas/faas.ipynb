{
 "cells": [
  {
   "cell_type": "code",
   "execution_count": null,
   "metadata": {},
   "outputs": [],
   "source": [
    "!pip install dulwich --global-option=\"--pure\""
   ]
  },
  {
   "cell_type": "code",
   "execution_count": null,
   "metadata": {},
   "outputs": [],
   "source": [
    "import os\n",
    "import uuid\n",
    "import json\n",
    "import docker\n",
    "from dulwich.repo import Repo\n"
   ]
  },
  {
   "cell_type": "code",
   "execution_count": null,
   "metadata": {},
   "outputs": [],
   "source": [
    "# set up Docker client and remote Docker Machine connection\n",
    "tls_config = docker.tls.TLSConfig(\n",
    "    client_cert=('wrnaz/cert.pem', 'wrnaz/key.pem'),\n",
    "    verify='wrnaz/ca.pem'\n",
    ")\n",
    "client = docker.DockerClient(base_url='tcp://23.97.131.169:2376', tls=tls_config)\n"
   ]
  },
  {
   "cell_type": "code",
   "execution_count": null,
   "metadata": {},
   "outputs": [],
   "source": [
    "sessions_path = '/home/jovyan/warren/faas/faas_sessions/'\n",
    "notebook = ''\n",
    "\n",
    "def create_session(session_type):\n",
    "    # create a folder with a unique name\n",
    "    if session_type == 'nb':\n",
    "        id = str(uuid.uuid4())\n",
    "        if not os.path.exists(sessions_path+id):\n",
    "            os.makedirs(sessions_path+id)\n",
    "            \n",
    "            # make the folder a bit more useful with `git init`\n",
    "            print(sessions_path+id)\n",
    "            session_repo = Repo.init(sessions_path+id)\n",
    "            \n",
    "            return id\n",
    "        else:\n",
    "            return Exception(FileExistsError)\n",
    "        \n",
    "    \n"
   ]
  },
  {
   "cell_type": "code",
   "execution_count": null,
   "metadata": {},
   "outputs": [],
   "source": [
    "#handle Jupyter notebook executions\n",
    "#BUT DO IT FUCKING LATER WHEN THERE'S TIME!\n",
    "def store_notebook(path, fileName, data):\n",
    "    filePathNameWExt = path + '/' + fileName\n",
    "    print(data)\n",
    "    with open(filePathNameWExt, 'w+') as fp:\n",
    "        fp.write(data)\n",
    "    fp.close()\n",
    "\n",
    "def run_notebook(session_id):\n",
    "    container = client.containers.run('jupyter/scipy-notebook', 'jupyter notebook '+ sessions_path + session_id + '/nb.ipynb')\n",
    "    return container.id"
   ]
  },
  {
   "cell_type": "code",
   "execution_count": null,
   "metadata": {},
   "outputs": [],
   "source": [
    "# handle Python script execution\n",
    "def store_script(path, fileName, data):\n",
    "    filePathNameWExt = path + '/' + fileName\n",
    "    print(filePathNameWExt)\n",
    "    with open(filePathNameWExt, 'w+') as fp:\n",
    "        fp.write(data)\n",
    "    fp.close()\n",
    "\n",
    "def run_script(session_id):\n",
    "    container = client.containers.run('jupyter/scipy-notebook', 'jupyter notebook '+ sessions_path + session_id + '/nb.ipynb')\n",
    "    return container.id"
   ]
  },
  {
   "cell_type": "code",
   "execution_count": null,
   "metadata": {},
   "outputs": [],
   "source": [
    "# prepare the JSON schema (or metadata) so we could make it as easy as possible\n",
    "# but also not forget anything important our users would miss. \n",
    "\n",
    "# REMEMBER! this is currently only to send our notebooks, \n",
    "# scripts, apps, to the cloud for execution\n",
    "REQUEST = json.dumps({\n",
    "    'body' : {}\n",
    "})"
   ]
  },
  {
   "cell_type": "code",
   "execution_count": null,
   "metadata": {},
   "outputs": [],
   "source": [
    "# POST /notebook\n",
    "try:\n",
    "    req = json.loads(REQUEST)\n",
    "    notebook = req['body']\n",
    "    session_id = create_session('nb')\n",
    "    store_notebook(sessions_path+session_id, 'nb.ipynb', notebook)\n",
    "    response = run_notebook(session_id)\n",
    "except Exception as e:\n",
    "    response = e\n",
    "finally:\n",
    "    print(response)\n"
   ]
  },
  {
   "cell_type": "code",
   "execution_count": null,
   "metadata": {},
   "outputs": [],
   "source": []
  }
 ],
 "metadata": {
  "kernelspec": {
   "display_name": "Python 3",
   "language": "python",
   "name": "python3"
  },
  "language_info": {
   "codemirror_mode": {
    "name": "ipython",
    "version": 3
   },
   "file_extension": ".py",
   "mimetype": "text/x-python",
   "name": "python",
   "nbconvert_exporter": "python",
   "pygments_lexer": "ipython3",
   "version": "3.6.5"
  }
 },
 "nbformat": 4,
 "nbformat_minor": 2
}
