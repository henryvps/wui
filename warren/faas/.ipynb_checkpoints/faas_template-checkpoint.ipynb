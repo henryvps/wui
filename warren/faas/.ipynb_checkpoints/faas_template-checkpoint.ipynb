{
 "cells": [
  {
   "cell_type": "raw",
   "metadata": {
    "raw_mimetype": "text/html",
    "slideshow": {
     "slide_type": "-"
    }
   },
   "source": [
    "# Dockerfile definition file to contain your application or script within a container.\n",
    "ENV TINI_VERSION v0.6.0\n",
    "ADD https://github.com/krallin/tini/releases/download/${TINI_VERSION}/tini /usr/bin/tini\n",
    "RUN chmod +x /usr/bin/tini\n",
    "ENTRYPOINT [\"/usr/bin/tini\", \"--\"]\n",
    "\n",
    "EXPOSE 8888\n",
    "CMD [\"jupyter-nbconvert\", \"--to=html\", \"foo.ipynb\"]\n",
    "# We only use the minimal "
   ]
  },
  {
   "cell_type": "code",
   "execution_count": null,
   "metadata": {},
   "outputs": [],
   "source": [
    "import json\n",
    "import docker\n",
    "import os\n",
    "import uuid"
   ]
  },
  {
   "cell_type": "code",
   "execution_count": null,
   "metadata": {},
   "outputs": [],
   "source": [
    "tls_config = docker.tls.TLSConfig(\n",
    "    client_cert=('wrnaz/cert.pem', 'wrnaz/key.pem'),\n",
    "    verify='wrnaz/ca.pem'\n",
    ")\n",
    "client = docker.DockerClient(base_url='tcp://23.97.131.169:2376', tls=tls_config)\n",
    "REQUEST = json.dumps({\n",
    "        'body' : {}\n",
    "})"
   ]
  },
  {
   "cell_type": "code",
   "execution_count": null,
   "metadata": {},
   "outputs": [],
   "source": [
    "# GET /foo\n",
    "print(\"bar\")"
   ]
  },
  {
   "cell_type": "raw",
   "metadata": {},
   "source": [
    "_i10"
   ]
  },
  {
   "cell_type": "code",
   "execution_count": null,
   "metadata": {},
   "outputs": [],
   "source": []
  }
 ],
 "metadata": {
  "kernelspec": {
   "display_name": "Python 3",
   "language": "python",
   "name": "python3"
  },
  "language_info": {
   "codemirror_mode": {
    "name": "ipython",
    "version": 3
   },
   "file_extension": ".py",
   "mimetype": "text/x-python",
   "name": "python",
   "nbconvert_exporter": "python",
   "pygments_lexer": "ipython3",
   "version": "3.6.5"
  }
 },
 "nbformat": 4,
 "nbformat_minor": 2
}
