{
 "cells": [
  {
   "cell_type": "code",
   "execution_count": null,
   "metadata": {},
   "outputs": [],
   "source": [
    "import os\n",
    "import uuid\n",
    "import json\n",
    "import docker\n",
    "from dulwich.repo import Repo\n",
    "import time\n",
    "import nbconvert\n",
    "import nbformat\n",
    "import random\n"
   ]
  },
  {
   "cell_type": "code",
   "execution_count": null,
   "metadata": {},
   "outputs": [],
   "source": [
    "# set up Docker client and remote Docker Machine connection\n",
    "tls_config = docker.tls.TLSConfig(\n",
    "    client_cert=('wrnaz/cert.pem', 'wrnaz/key.pem'),\n",
    "    verify='wrnaz/ca.pem'\n",
    ")\n",
    "client = docker.DockerClient(base_url='tcp://23.97.131.169:2376', tls=tls_config)\n"
   ]
  },
  {
   "cell_type": "code",
   "execution_count": null,
   "metadata": {},
   "outputs": [],
   "source": [
    "sessions_path = '/home/jovyan/faas/faas_sessions/'\n",
    "notebook = ''\n",
    "logs = ''\n",
    "\n",
    "def create_session():\n",
    "    # create a session folder with a unique name\n",
    "    id = str(uuid.uuid4())\n",
    "    sdir = sessions_path+id\n",
    "    if not os.path.exists(sdir):\n",
    "        os.makedirs(sdir)\n",
    "        return id\n",
    "    else:\n",
    "        return \"TRAMIDAGIVIGA\"\n"
   ]
  },
  {
   "cell_type": "code",
   "execution_count": null,
   "metadata": {},
   "outputs": [],
   "source": [
    "#handle Jupyter notebook executions\n",
    "#BUT DO IT FUCKING LATER WHEN THERE'S TIME!\n",
    "def store_notebook(sid, fileName, notebook_json):\n",
    "    filePathNameWExt = sessions_path + sid + '/' + fileName\n",
    "    nb = nbformat.reads(str(notebook_json), as_version=4)\n",
    "    nbformat.write(fp=filePathNameWExt, nb=nb)\n",
    "    return filePathNameWExt\n",
    "\n",
    "\n",
    "# run a Docker container executing user's notebook with\n",
    "# Jupyter Kernel Gateway. Just to expose user defined API endpoints\n",
    "# that can execute the code in the notebook itself or anything else..\n",
    "def run_nb_on_kernelgateway(sid, nb_path):\n",
    "    port  = str(random.randint(7000, 8000))\n",
    "    ct = client.containers.run(image='wui_faas_session', \n",
    "                                      entrypoint=\"tini -- jupyter-kernelgateway --KernelGatewayApp.api=notebook-http --KernelGatewayApp.ip=0.0.0.0\",\n",
    "                                      command=\" --KernelGatewayApp.port=\" + port + \" --KernelGatewayApp.seed_uri=\"+nb_path,\n",
    "                                      #command=\"ls \"+nb_path,\n",
    "                                      labels={\"faas_session_id\": sid},\n",
    "                                      ports={port+'/tcp': port},\n",
    "                                      name=\"faas_\"+sid,\n",
    "                                      volumes_from=\"wui_faas_1\",\n",
    "                                      environment=[\"FAAS_SID=\" + sid],\n",
    "                                      detach=True)\n",
    "    #ct = client.containers.run(image='wui_faas_session', command=\"ls /home/jovyan/\", volumes_from=\"5d0abcd9dd5c750b063368f3957\")\n",
    "    if ct:\n",
    "        return 'http://23.97.131.169:'+port+'/_api/spec/swagger.json'\n",
    "    else:\n",
    "        return 'ERROR: running container'\n",
    "    \n",
    "\n",
    "    \n"
   ]
  },
  {
   "cell_type": "code",
   "execution_count": null,
   "metadata": {},
   "outputs": [],
   "source": [
    "# handle Python script execution\n",
    "def store_script(path, fileName, data):\n",
    "    filePathNameWExt = path + '/' + fileName\n",
    "    print(filePathNameWExt)\n",
    "    with open(filePathNameWExt, 'w+') as fp:\n",
    "        fp.write(data)\n",
    "    fp.close()\n",
    "    return fp\n",
    "\n",
    "def run_script(session_id):\n",
    "    container = client.containers.run('jupyter/scipy-notebook', 'jupyter notebook '+ sessions_path + session_id + '/nb.ipynb')\n",
    "    return container.id\n",
    "\n",
    "def with_jupyter(notebook, return_format='STDOUT'):\n",
    "    ct = client.containers.run('jupyter/scipy-notebook', 'jupyter-nbconvert --to notebook --execute foo.ipynb')\n",
    "    return ct"
   ]
  },
  {
   "cell_type": "code",
   "execution_count": null,
   "metadata": {},
   "outputs": [],
   "source": [
    "# prepare the JSON schema (or metadata) so we could make it as easy as possible\n",
    "# but also not forget anything important our users would miss. \n",
    "\n",
    "# REMEMBER! this is currently only to send our notebooks, \n",
    "# scripts, apps, to the Machine for execution\n",
    "REQUEST = json.dumps({\n",
    "    'body' : {}\n",
    "})"
   ]
  },
  {
   "cell_type": "code",
   "execution_count": null,
   "metadata": {},
   "outputs": [],
   "source": [
    "# POST /notebook\n",
    "try:\n",
    "    req = json.loads(REQUEST)\n",
    "    notebook_json = req['body']\n",
    "    sid = create_session()\n",
    "    nb_path = store_notebook(sid, 'nb.ipynb', notebook_json)\n",
    "    if os.path.exists(nb_path):\n",
    "        ct = run_nb_on_kernelgateway(sid, nb_path)\n",
    "    else:\n",
    "        print('ERROR: session folder missing')\n",
    "except Exception as e:\n",
    "    response = e\n",
    "finally:\n",
    "    print(str(ct))\n"
   ]
  },
  {
   "cell_type": "code",
   "execution_count": null,
   "metadata": {},
   "outputs": [],
   "source": [
    "# POST /ipynb\n",
    "request = json.loads(REQUEST)\n",
    "notebook_json = request['body']\n",
    "print(notebook_json)"
   ]
  },
  {
   "cell_type": "code",
   "execution_count": null,
   "metadata": {},
   "outputs": [],
   "source": [
    "# GET /sessions\n",
    "for c in client.containers.list(all=True):\n",
    "    print(c)"
   ]
  },
  {
   "cell_type": "code",
   "execution_count": null,
   "metadata": {},
   "outputs": [],
   "source": []
  }
 ],
 "metadata": {
  "kernelspec": {
   "display_name": "Python 3",
   "language": "python",
   "name": "python3"
  },
  "language_info": {
   "codemirror_mode": {
    "name": "ipython",
    "version": 3
   },
   "file_extension": ".py",
   "mimetype": "text/x-python",
   "name": "python",
   "nbconvert_exporter": "python",
   "pygments_lexer": "ipython3",
   "version": "3.6.5"
  }
 },
 "nbformat": 4,
 "nbformat_minor": 2
}
