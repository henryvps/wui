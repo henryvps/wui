{
 "cells": [
  {
   "cell_type": "raw",
   "metadata": {},
   "source": [
    "#\n",
    "\n",
    "ENV TINI_VERSION v0.6.0\n",
    "ADD https://github.com/krallin/tini/releases/download/${TINI_VERSION}/tini /usr/bin/tini\n",
    "RUN chmod +x /usr/bin/tini\n",
    "ENTRYPOINT [\"/usr/bin/tini\", \"--\"]\n",
    "\n",
    "EXPOSE 8888\n",
    "CMD [\"jupyter\", \"notebook\", \"--port=8888\", \"--no-browser\", \"--ip=0.0.0.0\"]"
   ]
  },
  {
   "cell_type": "code",
   "execution_count": 10,
   "metadata": {},
   "outputs": [],
   "source": [
    "import json\n",
    "import docker\n",
    "import os\n",
    "import uuid"
   ]
  },
  {
   "cell_type": "code",
   "execution_count": 1,
   "metadata": {},
   "outputs": [
    {
     "ename": "NameError",
     "evalue": "name 'docker' is not defined",
     "output_type": "error",
     "traceback": [
      "\u001b[0;31m---------------------------------------------------------------------------\u001b[0m",
      "\u001b[0;31mNameError\u001b[0m                                 Traceback (most recent call last)",
      "\u001b[0;32m<ipython-input-1-5c4e12197c09>\u001b[0m in \u001b[0;36m<module>\u001b[0;34m()\u001b[0m\n\u001b[0;32m----> 1\u001b[0;31m tls_config = docker.tls.TLSConfig(\n\u001b[0m\u001b[1;32m      2\u001b[0m     \u001b[0mclient_cert\u001b[0m\u001b[0;34m=\u001b[0m\u001b[0;34m(\u001b[0m\u001b[0;34m'wrnaz/cert.pem'\u001b[0m\u001b[0;34m,\u001b[0m \u001b[0;34m'wrnaz/key.pem'\u001b[0m\u001b[0;34m)\u001b[0m\u001b[0;34m,\u001b[0m\u001b[0;34m\u001b[0m\u001b[0m\n\u001b[1;32m      3\u001b[0m     \u001b[0mverify\u001b[0m\u001b[0;34m=\u001b[0m\u001b[0;34m'wrnaz/ca.pem'\u001b[0m\u001b[0;34m\u001b[0m\u001b[0m\n\u001b[1;32m      4\u001b[0m )\n\u001b[1;32m      5\u001b[0m \u001b[0mclient\u001b[0m \u001b[0;34m=\u001b[0m \u001b[0mdocker\u001b[0m\u001b[0;34m.\u001b[0m\u001b[0mDockerClient\u001b[0m\u001b[0;34m(\u001b[0m\u001b[0mbase_url\u001b[0m\u001b[0;34m=\u001b[0m\u001b[0;34m'tcp://23.97.131.169:2376'\u001b[0m\u001b[0;34m,\u001b[0m \u001b[0mtls\u001b[0m\u001b[0;34m=\u001b[0m\u001b[0mtls_config\u001b[0m\u001b[0;34m)\u001b[0m\u001b[0;34m\u001b[0m\u001b[0m\n",
      "\u001b[0;31mNameError\u001b[0m: name 'docker' is not defined"
     ]
    }
   ],
   "source": [
    "tls_config = docker.tls.TLSConfig(\n",
    "    client_cert=('wrnaz/cert.pem', 'wrnaz/key.pem'),\n",
    "    verify='wrnaz/ca.pem'\n",
    ")\n",
    "client = docker.DockerClient(base_url='tcp://23.97.131.169:2376', tls=tls_config)\n",
    "REQUEST = json.dumps({\n",
    "        'body' : {}\n",
    "})"
   ]
  },
  {
   "cell_type": "code",
   "execution_count": 2,
   "metadata": {},
   "outputs": [
    {
     "name": "stdout",
     "output_type": "stream",
     "text": [
      "foobar\n"
     ]
    }
   ],
   "source": [
    "# GET /foo\n",
    "print(\"foobar\")"
   ]
  },
  {
   "cell_type": "raw",
   "metadata": {},
   "source": [
    "_i1"
   ]
  },
  {
   "cell_type": "code",
   "execution_count": null,
   "metadata": {},
   "outputs": [],
   "source": []
  }
 ],
 "metadata": {
  "kernelspec": {
   "display_name": "Python 3",
   "language": "python",
   "name": "python3"
  },
  "language_info": {
   "codemirror_mode": {
    "name": "ipython",
    "version": 3
   },
   "file_extension": ".py",
   "mimetype": "text/x-python",
   "name": "python",
   "nbconvert_exporter": "python",
   "pygments_lexer": "ipython3",
   "version": "3.6.5"
  }
 },
 "nbformat": 4,
 "nbformat_minor": 2
}
